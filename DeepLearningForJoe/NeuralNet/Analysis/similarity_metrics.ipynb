{
 "cells": [
  {
   "cell_type": "code",
   "execution_count": 18,
   "id": "initial_id",
   "metadata": {
    "collapsed": true,
    "ExecuteTime": {
     "end_time": "2024-08-13T10:42:48.969248800Z",
     "start_time": "2024-08-13T10:42:48.220693400Z"
    }
   },
   "outputs": [],
   "source": [
    "import numpy as np\n",
    "import matplotlib.pyplot as plt\n",
    "import skimage.metrics as metrics\n",
    "import mat73\n",
    "import pandas as pd\n",
    "from scipy.stats import entropy"
   ]
  },
  {
   "cell_type": "code",
   "outputs": [],
   "source": [
    "def normalized_mutual_information(image0, image1, *, bins=100):\n",
    "    r\"\"\"Compute the normalized mutual information (NMI).\n",
    "\n",
    "    The normalized mutual information of :math:`A` and :math:`B` is given by::\n",
    "\n",
    "    .. math::\n",
    "\n",
    "        Y(A, B) = \\frac{H(A) + H(B)}{H(A, B)}\n",
    "\n",
    "    where :math:`H(X) := - \\sum_{x \\in X}{x \\log x}` is the entropy.\n",
    "\n",
    "    It was proposed to be useful in registering images by Colin Studholme and\n",
    "    colleagues [1]_. It ranges from 1 (perfectly uncorrelated image values)\n",
    "    to 2 (perfectly correlated image values, whether positively or negatively).\n",
    "\n",
    "    Parameters\n",
    "    ----------\n",
    "    image0, image1 : ndarray\n",
    "        Images to be compared. The two input images must have the same number\n",
    "        of dimensions.\n",
    "    bins : int or sequence of int, optional\n",
    "        The number of bins along each axis of the joint histogram.\n",
    "\n",
    "    Returns\n",
    "    -------\n",
    "    nmi : float\n",
    "        The normalized mutual information between the two arrays, computed at\n",
    "        the granularity given by ``bins``. Higher NMI implies more similar\n",
    "        input images.\n",
    "\n",
    "    Raises\n",
    "    ------\n",
    "    ValueError\n",
    "        If the images don't have the same number of dimensions.\n",
    "\n",
    "    Notes\n",
    "    -----\n",
    "    If the two input images are not the same shape, the smaller image is padded\n",
    "    with zeros.\n",
    "\n",
    "    References\n",
    "    ----------\n",
    "    .. [1] C. Studholme, D.L.G. Hill, & D.J. Hawkes (1999). An overlap\n",
    "           invariant entropy measure of 3D medical image alignment.\n",
    "           Pattern Recognition 32(1):71-86\n",
    "           :DOI:`10.1016/S0031-3203(98)00091-0`\n",
    "    \"\"\"\n",
    "    if image0.ndim != image1.ndim:\n",
    "        raise ValueError(\n",
    "            f'NMI requires images of same number of dimensions. '\n",
    "            f'Got {image0.ndim}D for `image0` and '\n",
    "            f'{image1.ndim}D for `image1`.'\n",
    "        )\n",
    "    if image0.shape != image1.shape:\n",
    "        max_shape = np.maximum(image0.shape, image1.shape)\n",
    "        padded0 = _pad_to(image0, max_shape)\n",
    "        padded1 = _pad_to(image1, max_shape)\n",
    "    else:\n",
    "        padded0, padded1 = image0, image1\n",
    "\n",
    "    hist, bin_edges = np.histogramdd(\n",
    "        [np.reshape(padded0, -1), np.reshape(padded1, -1)],\n",
    "        bins=bins,\n",
    "        density=True,\n",
    "    )\n",
    "\n",
    "    H0 = entropy(np.sum(hist, axis=0))\n",
    "    H1 = entropy(np.sum(hist, axis=1))\n",
    "    H01 = entropy(np.reshape(hist, -1))\n",
    "\n",
    "    return (H0 + H1) / H01"
   ],
   "metadata": {
    "collapsed": false,
    "ExecuteTime": {
     "end_time": "2024-08-13T10:42:48.993064200Z",
     "start_time": "2024-08-13T10:42:48.977252400Z"
    }
   },
   "id": "805943c6f5a646d3",
   "execution_count": 19
  },
  {
   "cell_type": "code",
   "outputs": [],
   "source": [
    "file = mat73.loadmat(r'C:\\Joe Evans\\University\\Computing\\Summer Project\\DeepLearningForJoe\\SimulateData\\Experiments\\regularisation_picker\\images3_gaussian3_2500.mat')\n",
    "clean = file['clean_img']\n",
    "noisy = file['noisy_img']"
   ],
   "metadata": {
    "collapsed": false,
    "ExecuteTime": {
     "end_time": "2024-08-13T10:42:50.439619200Z",
     "start_time": "2024-08-13T10:42:50.367620400Z"
    }
   },
   "id": "4148981ea89e8d0e",
   "execution_count": 20
  },
  {
   "cell_type": "code",
   "outputs": [
    {
     "name": "stdout",
     "output_type": "stream",
     "text": [
      "[1.0311876170083383, 1.0353933495373626, 1.0361421819370855, 1.0320488397641823]\n"
     ]
    },
    {
     "data": {
      "text/plain": "       SSIM       MSE       NMI\n0  0.181614  0.895590  1.031188\n1  0.256452  0.816234  1.035393\n2  0.287507  0.826285  1.036142\n3  0.244424  0.914574  1.032049",
      "text/html": "<div>\n<style scoped>\n    .dataframe tbody tr th:only-of-type {\n        vertical-align: middle;\n    }\n\n    .dataframe tbody tr th {\n        vertical-align: top;\n    }\n\n    .dataframe thead th {\n        text-align: right;\n    }\n</style>\n<table border=\"1\" class=\"dataframe\">\n  <thead>\n    <tr style=\"text-align: right;\">\n      <th></th>\n      <th>SSIM</th>\n      <th>MSE</th>\n      <th>NMI</th>\n    </tr>\n  </thead>\n  <tbody>\n    <tr>\n      <th>0</th>\n      <td>0.181614</td>\n      <td>0.895590</td>\n      <td>1.031188</td>\n    </tr>\n    <tr>\n      <th>1</th>\n      <td>0.256452</td>\n      <td>0.816234</td>\n      <td>1.035393</td>\n    </tr>\n    <tr>\n      <th>2</th>\n      <td>0.287507</td>\n      <td>0.826285</td>\n      <td>1.036142</td>\n    </tr>\n    <tr>\n      <th>3</th>\n      <td>0.244424</td>\n      <td>0.914574</td>\n      <td>1.032049</td>\n    </tr>\n  </tbody>\n</table>\n</div>"
     },
     "execution_count": 34,
     "metadata": {},
     "output_type": "execute_result"
    }
   ],
   "source": [
    "ssim = []\n",
    "mse = []\n",
    "nmi = []\n",
    "for i in range(noisy.shape[3]):\n",
    "    ssim.append(metrics.structural_similarity(clean, noisy[:,:,:,i]))\n",
    "    mse.append(metrics.mean_squared_error(clean, noisy[:,:,:,i]))\n",
    "    nmi.append(normalized_mutual_information(clean, noisy[:,:,:,i]))\n",
    "print(nmi)\n",
    "\n",
    "\n",
    "d = {'SSIM': ssim, 'MSE': mse, 'NMI': nmi}\n",
    "df2 = pd.DataFrame(d)\n",
    "df2"
   ],
   "metadata": {
    "collapsed": false,
    "ExecuteTime": {
     "end_time": "2024-08-13T10:47:23.496365500Z",
     "start_time": "2024-08-13T10:47:23.352366700Z"
    }
   },
   "id": "290955c14f2cafc5",
   "execution_count": 34
  },
  {
   "cell_type": "code",
   "outputs": [],
   "source": [],
   "metadata": {
    "collapsed": false
   },
   "id": "533f136931e069b5"
  }
 ],
 "metadata": {
  "kernelspec": {
   "display_name": "Python 3",
   "language": "python",
   "name": "python3"
  },
  "language_info": {
   "codemirror_mode": {
    "name": "ipython",
    "version": 2
   },
   "file_extension": ".py",
   "mimetype": "text/x-python",
   "name": "python",
   "nbconvert_exporter": "python",
   "pygments_lexer": "ipython2",
   "version": "2.7.6"
  }
 },
 "nbformat": 4,
 "nbformat_minor": 5
}
